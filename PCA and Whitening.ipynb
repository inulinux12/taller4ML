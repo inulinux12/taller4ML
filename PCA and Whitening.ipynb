{
 "metadata": {
  "name": "",
  "signature": "sha256:5a8845fbc7db97870fc7f28bcc440c70d823c50e60d4a343a8720bc1ca4029bd"
 },
 "nbformat": 3,
 "nbformat_minor": 0,
 "worksheets": [
  {
   "cells": [
    {
     "cell_type": "heading",
     "level": 1,
     "metadata": {},
     "source": [
      "PCA and Whitening"
     ]
    },
    {
     "cell_type": "code",
     "collapsed": false,
     "input": [],
     "language": "python",
     "metadata": {},
     "outputs": []
    }
   ],
   "metadata": {}
  }
 ]
}