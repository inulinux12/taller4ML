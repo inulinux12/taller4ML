{
 "metadata": {
  "name": ""
 },
 "nbformat": 3,
 "nbformat_minor": 0,
 "worksheets": [
  {
   "cells": [
    {
     "cell_type": "heading",
     "level": 1,
     "metadata": {},
     "source": [
      "Assignment 4\n"
     ]
    },
    {
     "cell_type": "heading",
     "level": 2,
     "metadata": {},
     "source": [
      "Sparse Autoencoder"
     ]
    },
    {
     "cell_type": "code",
     "collapsed": false,
     "input": [
      "from scipy import io\n",
      "import numpy as np"
     ],
     "language": "python",
     "metadata": {},
     "outputs": [],
     "prompt_number": 5
    },
    {
     "cell_type": "code",
     "collapsed": false,
     "input": [
      "def sampleIMAGES():\n",
      "    IMAGES = io.loadmat('IMAGES.mat')\n",
      "    arrayIMAGES=np.array(IMAGES.get('IMAGES'))\n",
      "    patchsize = 8\n",
      "    numpatches = 10000\n",
      "    patches=np.zeros((patchsize*patchsize, numpatches))\n",
      "    images_idx = np.zeros((1, numpatches))\n",
      "    for i in range(numpatches):\n",
      "        chosen_image_idx=randrange(1,10)\n",
      "        images_idx[:,i]=chosen_image_idx\n",
      "        row=randrange(512-patchsize)\n",
      "        col=randrange(512-patchsize)\n",
      "        patches[:, i] = arrayIMAGES[row:row+patchsize, col:col+patchsize, chosen_image_idx].reshape((1, 64))\n",
      "    return patches"
     ],
     "language": "python",
     "metadata": {},
     "outputs": [],
     "prompt_number": 4
    },
    {
     "cell_type": "code",
     "collapsed": false,
     "input": [],
     "language": "python",
     "metadata": {},
     "outputs": []
    }
   ],
   "metadata": {}
  }
 ]
}